{
  "cells": [
    {
      "cell_type": "markdown",
      "metadata": {
        "id": "view-in-github",
        "colab_type": "text"
      },
      "source": [
        "<a href=\"https://colab.research.google.com/github/pierreduke/DeepFake_Detection/blob/main/STEP4_CELEB_train_test_CNN.ipynb\" target=\"_parent\"><img src=\"https://colab.research.google.com/assets/colab-badge.svg\" alt=\"Open In Colab\"/></a>"
      ]
    },
    {
      "cell_type": "markdown",
      "metadata": {
        "id": "l4pO823VtSDb"
      },
      "source": [
        "**Kết nối Google Colab với Drive và cài đặt các thư viện cần thiết**"
      ]
    },
    {
      "cell_type": "code",
      "execution_count": null,
      "metadata": {
        "colab": {
          "base_uri": "https://localhost:8080/"
        },
        "id": "X9Cx5hQDsLhq",
        "outputId": "1445b8f7-b418-4a6f-971c-c5da3d681e44"
      },
      "outputs": [
        {
          "name": "stdout",
          "output_type": "stream",
          "text": [
            "Mounted at /content/drive\n"
          ]
        }
      ],
      "source": [
        "from google.colab import drive\n",
        "drive._mount('/content/drive')"
      ]
    },
    {
      "cell_type": "code",
      "execution_count": null,
      "metadata": {
        "colab": {
          "base_uri": "https://localhost:8080/"
        },
        "id": "F-GLkxMhnazm",
        "outputId": "678c5f52-db7f-4e79-ec8a-2ee9daae4422"
      },
      "outputs": [
        {
          "output_type": "stream",
          "name": "stdout",
          "text": [
            "Collecting git+https://github.com/qubvel/efficientnet\n",
            "  Cloning https://github.com/qubvel/efficientnet to /tmp/pip-req-build-h5cpfmwd\n",
            "  Running command git clone -q https://github.com/qubvel/efficientnet /tmp/pip-req-build-h5cpfmwd\n",
            "Requirement already satisfied: keras_applications<=1.0.8,>=1.0.7 in /usr/local/lib/python3.7/dist-packages (from efficientnet==1.1.1) (1.0.8)\n",
            "Requirement already satisfied: scikit-image in /usr/local/lib/python3.7/dist-packages (from efficientnet==1.1.1) (0.18.3)\n",
            "Requirement already satisfied: h5py in /usr/local/lib/python3.7/dist-packages (from keras_applications<=1.0.8,>=1.0.7->efficientnet==1.1.1) (3.1.0)\n",
            "Requirement already satisfied: numpy>=1.9.1 in /usr/local/lib/python3.7/dist-packages (from keras_applications<=1.0.8,>=1.0.7->efficientnet==1.1.1) (1.19.5)\n",
            "Requirement already satisfied: cached-property in /usr/local/lib/python3.7/dist-packages (from h5py->keras_applications<=1.0.8,>=1.0.7->efficientnet==1.1.1) (1.5.2)\n",
            "Requirement already satisfied: pillow!=7.1.0,!=7.1.1,>=4.3.0 in /usr/local/lib/python3.7/dist-packages (from scikit-image->efficientnet==1.1.1) (7.1.2)\n",
            "Requirement already satisfied: imageio>=2.3.0 in /usr/local/lib/python3.7/dist-packages (from scikit-image->efficientnet==1.1.1) (2.4.1)\n",
            "Requirement already satisfied: PyWavelets>=1.1.1 in /usr/local/lib/python3.7/dist-packages (from scikit-image->efficientnet==1.1.1) (1.2.0)\n",
            "Requirement already satisfied: tifffile>=2019.7.26 in /usr/local/lib/python3.7/dist-packages (from scikit-image->efficientnet==1.1.1) (2021.11.2)\n",
            "Requirement already satisfied: matplotlib!=3.0.0,>=2.0.0 in /usr/local/lib/python3.7/dist-packages (from scikit-image->efficientnet==1.1.1) (3.2.2)\n",
            "Requirement already satisfied: networkx>=2.0 in /usr/local/lib/python3.7/dist-packages (from scikit-image->efficientnet==1.1.1) (2.6.3)\n",
            "Requirement already satisfied: scipy>=1.0.1 in /usr/local/lib/python3.7/dist-packages (from scikit-image->efficientnet==1.1.1) (1.4.1)\n",
            "Requirement already satisfied: cycler>=0.10 in /usr/local/lib/python3.7/dist-packages (from matplotlib!=3.0.0,>=2.0.0->scikit-image->efficientnet==1.1.1) (0.11.0)\n",
            "Requirement already satisfied: python-dateutil>=2.1 in /usr/local/lib/python3.7/dist-packages (from matplotlib!=3.0.0,>=2.0.0->scikit-image->efficientnet==1.1.1) (2.8.2)\n",
            "Requirement already satisfied: pyparsing!=2.0.4,!=2.1.2,!=2.1.6,>=2.0.1 in /usr/local/lib/python3.7/dist-packages (from matplotlib!=3.0.0,>=2.0.0->scikit-image->efficientnet==1.1.1) (3.0.6)\n",
            "Requirement already satisfied: kiwisolver>=1.0.1 in /usr/local/lib/python3.7/dist-packages (from matplotlib!=3.0.0,>=2.0.0->scikit-image->efficientnet==1.1.1) (1.3.2)\n",
            "Requirement already satisfied: six>=1.5 in /usr/local/lib/python3.7/dist-packages (from python-dateutil>=2.1->matplotlib!=3.0.0,>=2.0.0->scikit-image->efficientnet==1.1.1) (1.15.0)\n",
            "Requirement already satisfied: tensorflow-addons in /usr/local/lib/python3.7/dist-packages (0.15.0)\n",
            "Requirement already satisfied: typeguard>=2.7 in /usr/local/lib/python3.7/dist-packages (from tensorflow-addons) (2.7.1)\n"
          ]
        }
      ],
      "source": [
        "! pip install -U git+https://github.com/qubvel/efficientnet\n",
        "! pip install tensorflow-addons"
      ]
    },
    {
      "cell_type": "markdown",
      "metadata": {
        "id": "E9TUhufUptzb"
      },
      "source": [
        "**Giải nén tệp dữ liệu**"
      ]
    },
    {
      "cell_type": "code",
      "execution_count": null,
      "metadata": {
        "id": "DLSB91aitATV"
      },
      "outputs": [],
      "source": [
        "# !unzip  /content/drive/MyDrive/DatasetFF_train.zip\n",
        "!unzip  /content/drive/MyDrive/DatasetCELEB_train.zip"
      ]
    },
    {
      "cell_type": "markdown",
      "metadata": {
        "id": "BnbSPOhvp4D5"
      },
      "source": [
        "**1) Khai báo các thư viện sử dụng**"
      ]
    },
    {
      "cell_type": "code",
      "execution_count": null,
      "metadata": {
        "id": "LsjJfW-uqdqe"
      },
      "outputs": [],
      "source": [
        "import os\n",
        "import keras.backend as K\n",
        "from tensorflow.keras.preprocessing.image import ImageDataGenerator\n",
        "from tensorflow.keras.preprocessing import image_dataset_from_directory\n",
        "from tensorflow.keras.optimizers import Adam\n",
        "from tensorflow.keras.callbacks import EarlyStopping, ModelCheckpoint\n",
        "from tensorflow.keras.models import load_model, Model, Sequential\n",
        "from tensorflow.keras.layers import Input, Dense, Flatten, Dropout, InputSpec, Layer, BatchNormalization\n",
        "from tensorflow.keras.layers import AveragePooling2D, AveragePooling1D, MaxPooling2D, MaxPooling1D\n",
        "from tensorflow_addons.layers import SpatialPyramidPooling2D"
      ]
    },
    {
      "cell_type": "markdown",
      "metadata": {
        "id": "6bXyYv64pk3y"
      },
      "source": [
        "\n",
        "\n",
        "> **1.1) Đối với DenseNet121 và Xception**\n",
        "\n"
      ]
    },
    {
      "cell_type": "code",
      "execution_count": null,
      "metadata": {
        "id": "rkzKNElPP-7m"
      },
      "outputs": [],
      "source": [
        "# from tensorflow.keras.applications import Xception\n",
        "# baseModel = Xception(weights=\"imagenet\", include_top=False,\n",
        "#                     input_tensor=Input(shape=(224,224,3)))\n",
        "# headModel = baseModel.output\n",
        "# headModel = SpatialPyramidPooling2D([1, 2, 4])(headModel)\n",
        "# headModel = AveragePooling1D(pool_size=21)(headModel)\n",
        "# headModel = Flatten(name=\"flatten\")(headModel)\n",
        "# headModel = Dense(512, activation=\"relu\")(headModel)\n",
        "# headModel = Dropout(0.5)(headModel)\n",
        "# headModel = Dense(256, activation=\"relu\")(headModel)\n",
        "# headModel = Dense(2, activation=\"softmax\")(headModel)\n",
        "# model = Model(inputs=baseModel.input, outputs=headModel)\n",
        "# model.summary()"
      ]
    },
    {
      "cell_type": "markdown",
      "metadata": {
        "id": "ZP4RwEOJqGTK"
      },
      "source": [
        "\n",
        "\n",
        "> **1.2) Đối với EfficientNetB0 đến EfficientNetB2**\n",
        "\n"
      ]
    },
    {
      "cell_type": "code",
      "execution_count": null,
      "metadata": {
        "colab": {
          "base_uri": "https://localhost:8080/"
        },
        "id": "R6x3ink9VGNK",
        "outputId": "4a78197d-82f2-4d93-bbe8-94736917c0e8"
      },
      "outputs": [
        {
          "output_type": "stream",
          "name": "stdout",
          "text": [
            "Model: \"sequential\"\n",
            "_________________________________________________________________\n",
            " Layer (type)                Output Shape              Param #   \n",
            "=================================================================\n",
            " efficientnet-b2 (Functional  (None, 7, 7, 1408)       7768562   \n",
            " )                                                               \n",
            "                                                                 \n",
            " spatial_pyramid_pooling2d (  (None, 21, 1408)         0         \n",
            " SpatialPyramidPooling2D)                                        \n",
            "                                                                 \n",
            " flatten (Flatten)           (None, 29568)             0         \n",
            "                                                                 \n",
            " dense (Dense)               (None, 2)                 59138     \n",
            "                                                                 \n",
            "=================================================================\n",
            "Total params: 7,827,700\n",
            "Trainable params: 7,760,132\n",
            "Non-trainable params: 67,568\n",
            "_________________________________________________________________\n"
          ]
        }
      ],
      "source": [
        "from efficientnet.tfkeras import EfficientNetB2 #EfficientNetB0, EfficientNetB1, EfficientNetB2\n",
        "efficient_net = EfficientNetB2(\n",
        "    weights = 'imagenet',\n",
        "    input_shape = (224, 224, 3),\n",
        "    include_top = False,\n",
        ")\n",
        "\n",
        "model = Sequential()\n",
        "model.add(efficient_net)\n",
        "model.add(SpatialPyramidPooling2D([1, 2, 4]))\n",
        "# model.add(MaxPooling1D(pool_size=21))\n",
        "model.add(Flatten(name=\"flatten\"))\n",
        "# model.add(Dense(units = 512, activation = 'relu'))\n",
        "# model.add(Dropout(0.5))\n",
        "# model.add(Dense(units = 256, activation = 'relu'))\n",
        "model.add(Dense(units = 2, activation = 'softmax'))\n",
        "model.summary()"
      ]
    },
    {
      "cell_type": "code",
      "execution_count": null,
      "metadata": {
        "id": "ZsIqYGlSPZNh"
      },
      "outputs": [],
      "source": [
        "model.compile(optimizer = Adam(learning_rate=0.0001), loss='categorical_crossentropy', metrics=['accuracy'])"
      ]
    },
    {
      "cell_type": "markdown",
      "metadata": {
        "id": "PsEGJSzXqTWy"
      },
      "source": [
        "**2) Khởi tạo đường dẫn, checkpoint và callbacks**"
      ]
    },
    {
      "cell_type": "code",
      "execution_count": null,
      "metadata": {
        "id": "ZglRAgT1M1YX"
      },
      "outputs": [],
      "source": [
        "train_path = '/content/DatasetCELEB_train/train'\n",
        "val_path = '/content/DatasetCELEB_train/val'"
      ]
    },
    {
      "cell_type": "code",
      "execution_count": null,
      "metadata": {
        "colab": {
          "base_uri": "https://localhost:8080/"
        },
        "id": "MOyDpUQDPyMj",
        "outputId": "41145e96-b38c-4b40-edab-ca60f6ceb8ac"
      },
      "outputs": [
        {
          "name": "stdout",
          "output_type": "stream",
          "text": [
            "Creating Directory: /content/drive/MyDrive/model_checkpoint/\n"
          ]
        }
      ],
      "source": [
        "checkpoint_filepath = '/content/drive/MyDrive/model_checkpoint/'\n",
        "print('Creating Directory: ' + checkpoint_filepath)\n",
        "os.makedirs(checkpoint_filepath, exist_ok=True)"
      ]
    },
    {
      "cell_type": "code",
      "execution_count": null,
      "metadata": {
        "id": "BsQnyB9pPjOj"
      },
      "outputs": [],
      "source": [
        "custom_callbacks = [\n",
        "    EarlyStopping(\n",
        "        monitor = 'val_loss',\n",
        "        mode = 'min',\n",
        "        patience = 10,\n",
        "        verbose = 1\n",
        "    ),\n",
        "    ModelCheckpoint(\n",
        "        filepath = os.path.join(checkpoint_filepath, 'SPP2_EfficientNetB2_CELEB.h5'),\n",
        "        monitor = 'val_loss',\n",
        "        mode = 'min',\n",
        "        verbose = 1,\n",
        "        save_best_only = True\n",
        "    )\n",
        "]"
      ]
    },
    {
      "cell_type": "markdown",
      "metadata": {
        "id": "fgs4H3mFqoMi"
      },
      "source": [
        "**3) ImageDataGenerator**"
      ]
    },
    {
      "cell_type": "code",
      "execution_count": null,
      "metadata": {
        "colab": {
          "base_uri": "https://localhost:8080/"
        },
        "id": "e1lK04ojQBlM",
        "outputId": "02357462-783e-4a30-893f-d77093425ffa"
      },
      "outputs": [
        {
          "name": "stdout",
          "output_type": "stream",
          "text": [
            "Found 77703 images belonging to 2 classes.\n",
            "Found 19426 images belonging to 2 classes.\n"
          ]
        }
      ],
      "source": [
        "train_datagen = ImageDataGenerator(\n",
        "    rescale = 1/255,\n",
        "    rotation_range = 10,\n",
        "    width_shift_range = 0.1,\n",
        "    height_shift_range = 0.1,\n",
        "    shear_range = 0.2,\n",
        "    zoom_range = 0.1,\n",
        "    horizontal_flip = True,\n",
        "    fill_mode = 'nearest'\n",
        ")\n",
        "train_generator = train_datagen.flow_from_directory(\n",
        "    directory = train_path,\n",
        "    target_size = (224,224),\n",
        "    color_mode = \"rgb\",\n",
        "    class_mode = \"categorical\",\n",
        "    batch_size = 32,\n",
        "    shuffle = True\n",
        ")\n",
        "\n",
        "val_datagen = ImageDataGenerator(\n",
        "    rescale = 1/255    #rescale the tensor values to [0,1]\n",
        ")\n",
        "val_generator = val_datagen.flow_from_directory(\n",
        "    directory = val_path,\n",
        "    target_size = (224,224),\n",
        "    color_mode = \"rgb\",\n",
        "    class_mode = \"categorical\",\n",
        "    batch_size = 32,\n",
        "    shuffle = True\n",
        ")"
      ]
    },
    {
      "cell_type": "code",
      "execution_count": null,
      "metadata": {
        "colab": {
          "base_uri": "https://localhost:8080/"
        },
        "id": "Re2DgPM8r8K9",
        "outputId": "53a3b060-248c-47a9-f815-baee4526168b"
      },
      "outputs": [
        {
          "data": {
            "text/plain": [
              "2429"
            ]
          },
          "execution_count": 20,
          "metadata": {},
          "output_type": "execute_result"
        }
      ],
      "source": [
        "len(train_generator)"
      ]
    },
    {
      "cell_type": "markdown",
      "metadata": {
        "id": "Ct0fCG-8qurM"
      },
      "source": [
        "**4) Huấn luyện**"
      ]
    },
    {
      "cell_type": "code",
      "execution_count": null,
      "metadata": {
        "id": "lTPPw0ztTf2T"
      },
      "outputs": [],
      "source": [
        "num_epochs = 20"
      ]
    },
    {
      "cell_type": "code",
      "execution_count": null,
      "metadata": {
        "colab": {
          "base_uri": "https://localhost:8080/"
        },
        "id": "bEDh0jubPs1U",
        "outputId": "483f482e-de23-4fde-f53f-ef6a484fa42a"
      },
      "outputs": [
        {
          "name": "stdout",
          "output_type": "stream",
          "text": [
            "Epoch 1/20\n",
            "2429/2429 [==============================] - ETA: 0s - loss: 0.1727 - accuracy: 0.9267\n",
            "Epoch 00001: val_loss improved from inf to 0.05199, saving model to /content/drive/MyDrive/model_checkpoint/SPP2_EfficientNetB2_CELEB.h5\n"
          ]
        },
        {
          "name": "stderr",
          "output_type": "stream",
          "text": [
            "/usr/local/lib/python3.7/dist-packages/keras/engine/functional.py:1410: CustomMaskWarning: Custom mask layers require a config and must override get_config. When loading, the custom mask layer must be passed to the custom_objects argument.\n",
            "  layer_config = serialize_layer_fn(layer)\n"
          ]
        },
        {
          "name": "stdout",
          "output_type": "stream",
          "text": [
            "\b\b\b\b\b\b\b\b\b\b\b\b\b\b\b\b\b\b\b\b\b\b\b\b\b\b\b\b\b\b\b\b\b\b\b\b\b\b\b\b\b\b\b\b\b\b\b\b\b\b\b\b\b\b\b\b\b\b\b\b\b\b\b\b\b\b\b\b\b\b\b\b\b\b\b\b\b\b\b\b\b\b\b\b\b\b\r2429/2429 [==============================] - 840s 338ms/step - loss: 0.1727 - accuracy: 0.9267 - val_loss: 0.0520 - val_accuracy: 0.9804\n",
            "Epoch 2/20\n",
            "2429/2429 [==============================] - ETA: 0s - loss: 0.0517 - accuracy: 0.9811\n",
            "Epoch 00002: val_loss improved from 0.05199 to 0.03634, saving model to /content/drive/MyDrive/model_checkpoint/SPP2_EfficientNetB2_CELEB.h5\n",
            "2429/2429 [==============================] - 818s 337ms/step - loss: 0.0517 - accuracy: 0.9811 - val_loss: 0.0363 - val_accuracy: 0.9868\n",
            "Epoch 3/20\n",
            "2429/2429 [==============================] - ETA: 0s - loss: 0.0314 - accuracy: 0.9892\n",
            "Epoch 00003: val_loss improved from 0.03634 to 0.02202, saving model to /content/drive/MyDrive/model_checkpoint/SPP2_EfficientNetB2_CELEB.h5\n",
            "2429/2429 [==============================] - 818s 337ms/step - loss: 0.0314 - accuracy: 0.9892 - val_loss: 0.0220 - val_accuracy: 0.9924\n",
            "Epoch 4/20\n",
            "2429/2429 [==============================] - ETA: 0s - loss: 0.0256 - accuracy: 0.9908\n",
            "Epoch 00004: val_loss did not improve from 0.02202\n",
            "2429/2429 [==============================] - 816s 336ms/step - loss: 0.0256 - accuracy: 0.9908 - val_loss: 0.0276 - val_accuracy: 0.9898\n",
            "Epoch 5/20\n",
            "2429/2429 [==============================] - ETA: 0s - loss: 0.0209 - accuracy: 0.9927\n",
            "Epoch 00005: val_loss improved from 0.02202 to 0.02070, saving model to /content/drive/MyDrive/model_checkpoint/SPP2_EfficientNetB2_CELEB.h5\n",
            "2429/2429 [==============================] - 818s 337ms/step - loss: 0.0209 - accuracy: 0.9927 - val_loss: 0.0207 - val_accuracy: 0.9925\n",
            "Epoch 6/20\n",
            "2429/2429 [==============================] - ETA: 0s - loss: 0.0162 - accuracy: 0.9945\n",
            "Epoch 00006: val_loss improved from 0.02070 to 0.01057, saving model to /content/drive/MyDrive/model_checkpoint/SPP2_EfficientNetB2_CELEB.h5\n",
            "2429/2429 [==============================] - 821s 338ms/step - loss: 0.0162 - accuracy: 0.9945 - val_loss: 0.0106 - val_accuracy: 0.9960\n",
            "Epoch 7/20\n",
            "2429/2429 [==============================] - ETA: 0s - loss: 0.0145 - accuracy: 0.9951\n",
            "Epoch 00007: val_loss did not improve from 0.01057\n",
            "2429/2429 [==============================] - 817s 336ms/step - loss: 0.0145 - accuracy: 0.9951 - val_loss: 0.0196 - val_accuracy: 0.9941\n",
            "Epoch 8/20\n",
            "2429/2429 [==============================] - ETA: 0s - loss: 0.0137 - accuracy: 0.9955\n",
            "Epoch 00008: val_loss did not improve from 0.01057\n",
            "2429/2429 [==============================] - 820s 337ms/step - loss: 0.0137 - accuracy: 0.9955 - val_loss: 0.0112 - val_accuracy: 0.9967\n",
            "Epoch 9/20\n",
            "2429/2429 [==============================] - ETA: 0s - loss: 0.0130 - accuracy: 0.9958\n",
            "Epoch 00009: val_loss did not improve from 0.01057\n",
            "2429/2429 [==============================] - 818s 337ms/step - loss: 0.0130 - accuracy: 0.9958 - val_loss: 0.0113 - val_accuracy: 0.9960\n",
            "Epoch 10/20\n",
            "2429/2429 [==============================] - ETA: 0s - loss: 0.0110 - accuracy: 0.9965\n",
            "Epoch 00010: val_loss did not improve from 0.01057\n",
            "2429/2429 [==============================] - 819s 337ms/step - loss: 0.0110 - accuracy: 0.9965 - val_loss: 0.0316 - val_accuracy: 0.9905\n",
            "Epoch 11/20\n",
            "2429/2429 [==============================] - ETA: 0s - loss: 0.0116 - accuracy: 0.9963\n",
            "Epoch 00011: val_loss did not improve from 0.01057\n",
            "2429/2429 [==============================] - 818s 337ms/step - loss: 0.0116 - accuracy: 0.9963 - val_loss: 0.0120 - val_accuracy: 0.9969\n",
            "Epoch 12/20\n",
            "2429/2429 [==============================] - ETA: 0s - loss: 0.0089 - accuracy: 0.9969\n",
            "Epoch 00012: val_loss improved from 0.01057 to 0.00897, saving model to /content/drive/MyDrive/model_checkpoint/SPP2_EfficientNetB2_CELEB.h5\n",
            "2429/2429 [==============================] - 819s 337ms/step - loss: 0.0089 - accuracy: 0.9969 - val_loss: 0.0090 - val_accuracy: 0.9971\n",
            "Epoch 13/20\n",
            "2429/2429 [==============================] - ETA: 0s - loss: 0.0087 - accuracy: 0.9971\n",
            "Epoch 00013: val_loss improved from 0.00897 to 0.00895, saving model to /content/drive/MyDrive/model_checkpoint/SPP2_EfficientNetB2_CELEB.h5\n",
            "2429/2429 [==============================] - 819s 337ms/step - loss: 0.0087 - accuracy: 0.9971 - val_loss: 0.0089 - val_accuracy: 0.9975\n",
            "Epoch 14/20\n",
            "2429/2429 [==============================] - ETA: 0s - loss: 0.0077 - accuracy: 0.9974\n",
            "Epoch 00014: val_loss did not improve from 0.00895\n",
            "2429/2429 [==============================] - 820s 337ms/step - loss: 0.0077 - accuracy: 0.9974 - val_loss: 0.0140 - val_accuracy: 0.9961\n",
            "Epoch 15/20\n",
            "2429/2429 [==============================] - ETA: 0s - loss: 0.0070 - accuracy: 0.9978\n",
            "Epoch 00015: val_loss did not improve from 0.00895\n",
            "2429/2429 [==============================] - 818s 337ms/step - loss: 0.0070 - accuracy: 0.9978 - val_loss: 0.0090 - val_accuracy: 0.9975\n",
            "Epoch 16/20\n",
            "2429/2429 [==============================] - ETA: 0s - loss: 0.0077 - accuracy: 0.9975\n",
            "Epoch 00016: val_loss did not improve from 0.00895\n",
            "2429/2429 [==============================] - 815s 336ms/step - loss: 0.0077 - accuracy: 0.9975 - val_loss: 0.0106 - val_accuracy: 0.9970\n",
            "Epoch 17/20\n",
            "2429/2429 [==============================] - ETA: 0s - loss: 0.0068 - accuracy: 0.9977\n",
            "Epoch 00017: val_loss did not improve from 0.00895\n",
            "2429/2429 [==============================] - 816s 336ms/step - loss: 0.0068 - accuracy: 0.9977 - val_loss: 0.0095 - val_accuracy: 0.9966\n",
            "Epoch 18/20\n",
            "2429/2429 [==============================] - ETA: 0s - loss: 0.0064 - accuracy: 0.9978\n",
            "Epoch 00018: val_loss improved from 0.00895 to 0.00706, saving model to /content/drive/MyDrive/model_checkpoint/SPP2_EfficientNetB2_CELEB.h5\n",
            "2429/2429 [==============================] - 818s 337ms/step - loss: 0.0064 - accuracy: 0.9978 - val_loss: 0.0071 - val_accuracy: 0.9979\n",
            "Epoch 19/20\n",
            "2429/2429 [==============================] - ETA: 0s - loss: 0.0060 - accuracy: 0.9981\n",
            "Epoch 00019: val_loss did not improve from 0.00706\n",
            "2429/2429 [==============================] - 814s 335ms/step - loss: 0.0060 - accuracy: 0.9981 - val_loss: 0.0086 - val_accuracy: 0.9979\n",
            "Epoch 20/20\n",
            "2429/2429 [==============================] - ETA: 0s - loss: 0.0063 - accuracy: 0.9979\n",
            "Epoch 00020: val_loss did not improve from 0.00706\n",
            "2429/2429 [==============================] - 816s 336ms/step - loss: 0.0063 - accuracy: 0.9979 - val_loss: 0.0086 - val_accuracy: 0.9973\n",
            "{'loss': [0.1726965457201004, 0.051718275994062424, 0.03139874339103699, 0.025635838508605957, 0.020943382754921913, 0.016239449381828308, 0.01447001937776804, 0.013651898130774498, 0.013003623113036156, 0.010995586402714252, 0.011606881394982338, 0.008887259289622307, 0.008679866790771484, 0.007743765600025654, 0.0069585382007062435, 0.007697177119553089, 0.006799013819545507, 0.006439185235649347, 0.005989415571093559, 0.006347367540001869], 'accuracy': [0.9267081022262573, 0.9811075329780579, 0.9892281889915466, 0.990772545337677, 0.9926900863647461, 0.9945433139801025, 0.9950581192970276, 0.9955214262008667, 0.9958431720733643, 0.9964866042137146, 0.9963064193725586, 0.9969241619110107, 0.9970529079437256, 0.9973617196083069, 0.9977993369102478, 0.9975033402442932, 0.9977478384971619, 0.9977735877037048, 0.9981082081794739, 0.9978636503219604], 'val_loss': [0.05198710411787033, 0.03634408488869667, 0.022021206095814705, 0.02755095809698105, 0.020695799961686134, 0.0105711929500103, 0.019550452008843422, 0.011219261214137077, 0.011329784989356995, 0.03157882019877434, 0.012007955461740494, 0.00897167343646288, 0.00894972588866949, 0.014016637578606606, 0.008961403742432594, 0.010561248287558556, 0.009538400918245316, 0.007059551775455475, 0.008592606522142887, 0.008608262054622173], 'val_accuracy': [0.9804385900497437, 0.9868217706680298, 0.9923813343048096, 0.9898074865341187, 0.9924842715263367, 0.9960362315177917, 0.9941315650939941, 0.9967054724693298, 0.9960362315177917, 0.9905281662940979, 0.9968599081039429, 0.9970657825469971, 0.9974775910377502, 0.9960877299308777, 0.9974775910377502, 0.9970142841339111, 0.996602475643158, 0.9978893995285034, 0.9978893995285034, 0.997271716594696]}\n"
          ]
        }
      ],
      "source": [
        "H = model.fit(\n",
        "    train_generator,\n",
        "    epochs = num_epochs,\n",
        "    steps_per_epoch = len(train_generator),\n",
        "    validation_data = val_generator,\n",
        "    validation_steps = len(val_generator),\n",
        "    callbacks = custom_callbacks\n",
        ")\n",
        "print(H.history)"
      ]
    },
    {
      "cell_type": "markdown",
      "metadata": {
        "id": "dUh23xgXqym0"
      },
      "source": [
        "**5) Plot đồ thị train**"
      ]
    },
    {
      "cell_type": "code",
      "execution_count": null,
      "metadata": {
        "colab": {
          "base_uri": "https://localhost:8080/",
          "height": 295
        },
        "id": "Cc_rIC9Htudl",
        "outputId": "6c48cb5e-f9c4-4dbd-9f47-270b69a3f716"
      },
      "outputs": [
        {
          "data": {
            "image/png": "[encoded data removed]",
            "text/plain": [
              "<Figure size 432x288 with 1 Axes>"
            ]
          },
          "metadata": {},
          "output_type": "display_data"
        }
      ],
      "source": [
        "import matplotlib.pyplot as plt\n",
        "acc = H.history['accuracy']\n",
        "val_acc = H.history['val_accuracy']\n",
        "loss = H.history['loss']\n",
        "val_loss = H.history['val_loss']\n",
        "\n",
        "import matplotlib.pyplot as plt\n",
        "epochs = range(1, len(acc) + 1)\n",
        "plt.plot(epochs, H.history['loss'], label='loss', marker=\"*\")\n",
        "plt.plot(epochs, H.history['val_loss'], label='val_loss', marker=\"+\")\n",
        "plt.xlabel('Epoch')\n",
        "plt.ylabel('Loss')\n",
        "# plt.ylim([0,1])\n",
        "plt.title('MIX - SPP2_EfficientNetB2 - Loss')\n",
        "plt.legend()\n",
        "plt.show()"
      ]
    },
    {
      "cell_type": "code",
      "execution_count": null,
      "metadata": {
        "colab": {
          "base_uri": "https://localhost:8080/",
          "height": 295
        },
        "id": "0hu_1Ly7p3CS",
        "outputId": "33637c89-22c7-4b41-b9b5-10730029bf0e"
      },
      "outputs": [
        {
          "data": {
            "image/png": "[encoded data removed]",
            "text/plain": [
              "<Figure size 432x288 with 1 Axes>"
            ]
          },
          "metadata": {},
          "output_type": "display_data"
        }
      ],
      "source": [
        "plt.plot(epochs, H.history['accuracy'], label='accuracy', marker=\"*\")\n",
        "plt.plot(epochs, H.history['val_accuracy'], label='val_accuracy', marker=\"+\")\n",
        "plt.xlabel('Epoch')\n",
        "plt.ylabel('Accuracy')\n",
        "# plt.ylim([0,1])\n",
        "plt.title('MIX - SPP2_EfficientNetB2 - Accuracy')\n",
        "plt.legend()\n",
        "plt.show()"
      ]
    },
    {
      "cell_type": "markdown",
      "metadata": {
        "id": "d2MKLcyywDjP"
      },
      "source": [
        "**Continue_training**"
      ]
    },
    {
      "cell_type": "code",
      "execution_count": null,
      "metadata": {
        "id": "1NlGtcDxw2h6"
      },
      "outputs": [],
      "source": [
        "new_custom_callbacks = [\n",
        "    EarlyStopping(\n",
        "        monitor = 'val_loss',\n",
        "        mode = 'min',\n",
        "        patience = 5,\n",
        "        verbose = 1\n",
        "    ),\n",
        "    ModelCheckpoint(\n",
        "        filepath = os.path.join(checkpoint_filepath, 'SPP2_EfficientNetB2_CELEB_part2.h5'),\n",
        "        monitor = 'val_loss',\n",
        "        mode = 'min',\n",
        "        verbose = 1,\n",
        "        save_best_only = True\n",
        "    )\n",
        "]"
      ]
    },
    {
      "cell_type": "code",
      "execution_count": null,
      "metadata": {
        "colab": {
          "base_uri": "https://localhost:8080/"
        },
        "id": "qskJ_yj3wH3k",
        "outputId": "e1a0b4af-3e87-401e-962c-c0dc41f40a01"
      },
      "outputs": [
        {
          "name": "stderr",
          "output_type": "stream",
          "text": [
            "/usr/local/lib/python3.7/dist-packages/ipykernel_launcher.py:7: UserWarning: `Model.fit_generator` is deprecated and will be removed in a future version. Please use `Model.fit`, which supports generators.\n",
            "  import sys\n"
          ]
        },
        {
          "name": "stdout",
          "output_type": "stream",
          "text": [
            "Epoch 1/20\n",
            "2429/2429 [==============================] - ETA: 0s - loss: 0.0057 - accuracy: 0.9980\n",
            "Epoch 00001: val_loss improved from inf to 0.00700, saving model to /content/drive/MyDrive/model_checkpoint/SPP2_EfficientNetB2_CELEB_part2.h5\n"
          ]
        },
        {
          "name": "stderr",
          "output_type": "stream",
          "text": [
            "/usr/local/lib/python3.7/dist-packages/keras/engine/functional.py:1410: CustomMaskWarning: Custom mask layers require a config and must override get_config. When loading, the custom mask layer must be passed to the custom_objects argument.\n",
            "  layer_config = serialize_layer_fn(layer)\n"
          ]
        },
        {
          "name": "stdout",
          "output_type": "stream",
          "text": [
            "2429/2429 [==============================] - 827s 338ms/step - loss: 0.0057 - accuracy: 0.9980 - val_loss: 0.0070 - val_accuracy: 0.9980\n",
            "Epoch 2/20\n",
            "2429/2429 [==============================] - ETA: 0s - loss: 0.0060 - accuracy: 0.9979\n",
            "Epoch 00002: val_loss did not improve from 0.00700\n",
            "2429/2429 [==============================] - 818s 337ms/step - loss: 0.0060 - accuracy: 0.9979 - val_loss: 0.0075 - val_accuracy: 0.9977\n",
            "Epoch 3/20\n",
            "2429/2429 [==============================] - ETA: 0s - loss: 0.0053 - accuracy: 0.9984\n",
            "Epoch 00003: val_loss did not improve from 0.00700\n",
            "2429/2429 [==============================] - 816s 336ms/step - loss: 0.0053 - accuracy: 0.9984 - val_loss: 0.0230 - val_accuracy: 0.9947\n",
            "Epoch 4/20\n",
            "2429/2429 [==============================] - ETA: 0s - loss: 0.0050 - accuracy: 0.9984\n",
            "Epoch 00004: val_loss did not improve from 0.00700\n",
            "2429/2429 [==============================] - 814s 335ms/step - loss: 0.0050 - accuracy: 0.9984 - val_loss: 0.0100 - val_accuracy: 0.9970\n",
            "Epoch 5/20\n",
            "2429/2429 [==============================] - ETA: 0s - loss: 0.0052 - accuracy: 0.9984\n",
            "Epoch 00005: val_loss did not improve from 0.00700\n",
            "2429/2429 [==============================] - 815s 335ms/step - loss: 0.0052 - accuracy: 0.9984 - val_loss: 0.0074 - val_accuracy: 0.9979\n",
            "Epoch 6/20\n",
            "2429/2429 [==============================] - ETA: 0s - loss: 0.0047 - accuracy: 0.9983\n",
            "Epoch 00006: val_loss improved from 0.00700 to 0.00674, saving model to /content/drive/MyDrive/model_checkpoint/SPP2_EfficientNetB2_CELEB_part2.h5\n",
            "2429/2429 [==============================] - 818s 337ms/step - loss: 0.0047 - accuracy: 0.9983 - val_loss: 0.0067 - val_accuracy: 0.9976\n",
            "Epoch 7/20\n",
            "2429/2429 [==============================] - ETA: 0s - loss: 0.0044 - accuracy: 0.9985\n",
            "Epoch 00007: val_loss did not improve from 0.00674\n",
            "2429/2429 [==============================] - 821s 338ms/step - loss: 0.0044 - accuracy: 0.9985 - val_loss: 0.0071 - val_accuracy: 0.9975\n",
            "Epoch 8/20\n",
            "2429/2429 [==============================] - ETA: 0s - loss: 0.0044 - accuracy: 0.9986\n",
            "Epoch 00008: val_loss did not improve from 0.00674\n",
            "2429/2429 [==============================] - 818s 337ms/step - loss: 0.0044 - accuracy: 0.9986 - val_loss: 0.0108 - val_accuracy: 0.9972\n",
            "Epoch 9/20\n",
            "2429/2429 [==============================] - ETA: 0s - loss: 0.0038 - accuracy: 0.9988\n",
            "Epoch 00009: val_loss did not improve from 0.00674\n",
            "2429/2429 [==============================] - 813s 335ms/step - loss: 0.0038 - accuracy: 0.9988 - val_loss: 0.0088 - val_accuracy: 0.9982\n",
            "Epoch 10/20\n",
            "2429/2429 [==============================] - ETA: 0s - loss: 0.0041 - accuracy: 0.9986\n",
            "Epoch 00010: val_loss did not improve from 0.00674\n",
            "2429/2429 [==============================] - 815s 335ms/step - loss: 0.0041 - accuracy: 0.9986 - val_loss: 0.0099 - val_accuracy: 0.9975\n",
            "Epoch 11/20\n",
            "2429/2429 [==============================] - ETA: 0s - loss: 0.0040 - accuracy: 0.9988\n",
            "Epoch 00011: val_loss improved from 0.00674 to 0.00671, saving model to /content/drive/MyDrive/model_checkpoint/SPP2_EfficientNetB2_CELEB_part2.h5\n",
            "2429/2429 [==============================] - 817s 336ms/step - loss: 0.0040 - accuracy: 0.9988 - val_loss: 0.0067 - val_accuracy: 0.9978\n",
            "Epoch 12/20\n",
            "2429/2429 [==============================] - ETA: 0s - loss: 0.0045 - accuracy: 0.9986\n",
            "Epoch 00012: val_loss improved from 0.00671 to 0.00643, saving model to /content/drive/MyDrive/model_checkpoint/SPP2_EfficientNetB2_CELEB_part2.h5\n",
            "2429/2429 [==============================] - 820s 337ms/step - loss: 0.0045 - accuracy: 0.9986 - val_loss: 0.0064 - val_accuracy: 0.9982\n",
            "Epoch 13/20\n",
            "2429/2429 [==============================] - ETA: 0s - loss: 0.0034 - accuracy: 0.9989\n",
            "Epoch 00013: val_loss did not improve from 0.00643\n",
            "2429/2429 [==============================] - 820s 338ms/step - loss: 0.0034 - accuracy: 0.9989 - val_loss: 0.0066 - val_accuracy: 0.9981\n",
            "Epoch 14/20\n",
            "2429/2429 [==============================] - ETA: 0s - loss: 0.0046 - accuracy: 0.9985\n",
            "Epoch 00014: val_loss did not improve from 0.00643\n",
            "2429/2429 [==============================] - 821s 338ms/step - loss: 0.0046 - accuracy: 0.9985 - val_loss: 0.0068 - val_accuracy: 0.9982\n",
            "Epoch 15/20\n",
            "2429/2429 [==============================] - ETA: 0s - loss: 0.0037 - accuracy: 0.9988\n",
            "Epoch 00015: val_loss did not improve from 0.00643\n",
            "2429/2429 [==============================] - 821s 338ms/step - loss: 0.0037 - accuracy: 0.9988 - val_loss: 0.0092 - val_accuracy: 0.9977\n",
            "Epoch 16/20\n",
            "2429/2429 [==============================] - ETA: 0s - loss: 0.0035 - accuracy: 0.9988\n",
            "Epoch 00016: val_loss did not improve from 0.00643\n",
            "2429/2429 [==============================] - 824s 339ms/step - loss: 0.0035 - accuracy: 0.9988 - val_loss: 0.0085 - val_accuracy: 0.9973\n",
            "Epoch 17/20\n",
            "2429/2429 [==============================] - ETA: 0s - loss: 0.0033 - accuracy: 0.9991\n",
            "Epoch 00017: val_loss did not improve from 0.00643\n",
            "2429/2429 [==============================] - 822s 338ms/step - loss: 0.0033 - accuracy: 0.9991 - val_loss: 0.0065 - val_accuracy: 0.9982\n",
            "Epoch 00017: early stopping\n",
            "{'loss': [0.005692450795322657, 0.005989202298223972, 0.00529094971716404, 0.004997166804969311, 0.005167123395949602, 0.00468266848474741, 0.004426042549312115, 0.004406046122312546, 0.003773854346945882, 0.004078059922903776, 0.003960980102419853, 0.004488970618695021, 0.003416194347664714, 0.004555927123874426, 0.0036753923632204533, 0.0035006203688681126, 0.0032544417772442102], 'accuracy': [0.9979665875434875, 0.9979151487350464, 0.9983784556388855, 0.9984170198440552, 0.9984042048454285, 0.998339831829071, 0.99854576587677, 0.9986358284950256, 0.9988031387329102, 0.9986229538917542, 0.9988417625427246, 0.9986358284950256, 0.9989446997642517, 0.9984942674636841, 0.9988031387329102, 0.9987902641296387, 0.9991248846054077], 'val_loss': [0.006998003926128149, 0.007533990778028965, 0.02296251431107521, 0.010047768242657185, 0.007371633779257536, 0.006740627810359001, 0.00706246355548501, 0.0108083076775074, 0.008785267360508442, 0.0099239656701684, 0.006708149798214436, 0.006428031716495752, 0.006633467506617308, 0.006803127937018871, 0.00923534668982029, 0.008535048924386501, 0.006489544175565243], 'val_accuracy': [0.9979923963546753, 0.9977350234985352, 0.9946978092193604, 0.9970142841339111, 0.9979408979415894, 0.9976320266723633, 0.9974775910377502, 0.9971687197685242, 0.9981982707977295, 0.9974775910377502, 0.9977864623069763, 0.9982497692108154, 0.9980953335762024, 0.9982497692108154, 0.9976835250854492, 0.9973231554031372, 0.9981982707977295]}\n"
          ]
        }
      ],
      "source": [
        "H = new_model.fit_generator(\n",
        "    train_generator,\n",
        "    epochs = num_epochs,\n",
        "    steps_per_epoch = len(train_generator),\n",
        "    validation_data = val_generator,\n",
        "    validation_steps = len(val_generator),\n",
        "    callbacks = new_custom_callbacks\n",
        ")\n",
        "print(H.history)"
      ]
    },
    {
      "cell_type": "markdown",
      "metadata": {
        "id": "aY0JA_-hq6uK"
      },
      "source": [
        "\n",
        "\n",
        "---\n",
        "\n",
        "\n",
        "\n",
        "---\n",
        "\n",
        "\n",
        "\n",
        "---\n",
        "\n",
        "\n",
        "\n",
        "---\n",
        "\n",
        "\n",
        "\n",
        "---\n",
        "\n",
        "\n",
        "\n",
        "---\n",
        "**Phần test**\n",
        "\n",
        "\n",
        "---\n",
        "\n",
        "---\n",
        "\n",
        "\n",
        "\n",
        "---\n",
        "\n",
        "\n",
        "\n",
        "---\n",
        "\n",
        "\n",
        "\n",
        "---\n",
        "\n",
        "\n",
        "\n",
        "\n"
      ]
    },
    {
      "cell_type": "code",
      "execution_count": null,
      "metadata": {
        "id": "B21cxLn5QCxU"
      },
      "outputs": [],
      "source": [
        "# !unzip /content/drive/MyDrive/DatasetFF_test.zip\n",
        "!unzip /content/drive/MyDrive/DatasetCELEB_test.zip"
      ]
    },
    {
      "cell_type": "markdown",
      "metadata": {
        "id": "H-eBCe_MP794"
      },
      "source": [
        "**1) Khai báo thư viện**"
      ]
    },
    {
      "cell_type": "code",
      "execution_count": null,
      "metadata": {
        "id": "praR1HWrN9E-"
      },
      "outputs": [],
      "source": [
        "from tensorflow.keras.models import load_model\n",
        "from tensorflow.keras.preprocessing.image import ImageDataGenerator"
      ]
    },
    {
      "cell_type": "markdown",
      "metadata": {
        "id": "TPeVbjnCP_jk"
      },
      "source": [
        "**2) Khai báo tệp test**"
      ]
    },
    {
      "cell_type": "code",
      "execution_count": null,
      "metadata": {
        "colab": {
          "base_uri": "https://localhost:8080/"
        },
        "id": "QZ28PbM799m5",
        "outputId": "b5b7138f-7381-4257-bfc7-0f3fb3e4d3b0"
      },
      "outputs": [
        {
          "output_type": "stream",
          "name": "stdout",
          "text": [
            "Found 33384 images belonging to 2 classes.\n"
          ]
        }
      ],
      "source": [
        "test_path = '/content/DatasetCELEB_test'\n",
        "test_datagen = ImageDataGenerator(\n",
        "    rescale = 1/255    #rescale the tensor values to [0,1]\n",
        ")\n",
        "\n",
        "test_generator = test_datagen.flow_from_directory(\n",
        "    directory = test_path,\n",
        "    classes=['real', 'fake'],\n",
        "    target_size = (224,224),\n",
        "    color_mode = \"rgb\",\n",
        "    class_mode = None,\n",
        "    batch_size = 1,\n",
        "    shuffle = False\n",
        ")"
      ]
    },
    {
      "cell_type": "markdown",
      "metadata": {
        "id": "j2XPSK1bQO2b"
      },
      "source": [
        "**3) Load mô hình đã học ở trên**"
      ]
    },
    {
      "cell_type": "code",
      "execution_count": null,
      "metadata": {
        "id": "hOxMtjENOxG4"
      },
      "outputs": [],
      "source": [
        "new_model = load_model('/content/drive/MyDrive/model_checkpoint/SPP2_EfficientNetB2_CELEB_part2.h5',\n",
        "                       custom_objects={'SpatialPyramidPooling2D': SpatialPyramidPooling2D})"
      ]
    },
    {
      "cell_type": "markdown",
      "metadata": {
        "id": "rg8N9iK6RTIF"
      },
      "source": [
        "**4) Predict tệp dataset**"
      ]
    },
    {
      "cell_type": "code",
      "execution_count": null,
      "metadata": {
        "colab": {
          "base_uri": "https://localhost:8080/"
        },
        "id": "2On-97gF-Ruh",
        "outputId": "e0311cdc-6c33-4f98-a655-f4ba60eb9e4f"
      },
      "outputs": [
        {
          "output_type": "stream",
          "name": "stdout",
          "text": [
            "33384/33384 [==============================] - 551s 16ms/step\n"
          ]
        }
      ],
      "source": [
        "test_generator.reset()\n",
        "preds = new_model.predict(test_generator, verbose = 1)"
      ]
    },
    {
      "cell_type": "code",
      "execution_count": null,
      "metadata": {
        "colab": {
          "base_uri": "https://localhost:8080/"
        },
        "id": "VG5V7HR8mmX1",
        "outputId": "c75e8b9a-4e6e-464a-a9c8-36b945c9748c"
      },
      "outputs": [
        {
          "output_type": "stream",
          "name": "stdout",
          "text": [
            "[[4.91095462e-16 1.00000000e+00]\n",
            " [7.38362660e-09 1.00000000e+00]\n",
            " [2.26244704e-10 1.00000000e+00]\n",
            " ...\n",
            " [1.00000000e+00 1.23187610e-22]\n",
            " [1.00000000e+00 1.06842784e-16]\n",
            " [1.00000000e+00 1.25954043e-12]]\n"
          ]
        }
      ],
      "source": [
        "print(preds)"
      ]
    },
    {
      "cell_type": "markdown",
      "metadata": {
        "id": "8XHN_4zmSgRn"
      },
      "source": [
        "**5) Encoder True Labels (Nên kiểm tra nhãn trước, [0 1] thì set 'real, fake'**"
      ]
    },
    {
      "cell_type": "code",
      "execution_count": null,
      "metadata": {
        "id": "9CivKvCZ-caZ"
      },
      "outputs": [],
      "source": [
        "from keras.utils import np_utils\n",
        "from imutils import paths\n",
        "import numpy as np\n",
        "import pickle\n",
        "from sklearn.preprocessing import LabelEncoder\n",
        "import os\n",
        "\n",
        "path_reals = list(paths.list_images('/content/DatasetCELEB_test/real'))\n",
        "labels_real = []\n",
        "\n",
        "for path_real in path_reals:\n",
        "\tlabel2 = path_real.split(os.path.sep)[-2]\n",
        "\tlabels_real.append(label2)\n",
        " \n",
        "path_fakes = list(paths.list_images('/content/DatasetCELEB_test/fake'))\n",
        "labels_fake = []\n",
        "\n",
        "for path_fake in path_fakes:\n",
        "\tlabel3 = path_fake.split(os.path.sep)[-2]\n",
        "\tlabels_fake.append(label3)\n",
        " \n",
        "labels_test = labels_real + labels_fake"
      ]
    },
    {
      "cell_type": "code",
      "execution_count": null,
      "metadata": {
        "colab": {
          "base_uri": "https://localhost:8080/"
        },
        "id": "TB5rN5_3_C-5",
        "outputId": "dbd88e58-a0c5-47ac-f6dc-6b96e68b15c9"
      },
      "outputs": [
        {
          "output_type": "stream",
          "name": "stdout",
          "text": [
            "real\n",
            "fake\n"
          ]
        }
      ],
      "source": [
        "print(labels_test[2])\n",
        "print(labels_test[30000])"
      ]
    },
    {
      "cell_type": "code",
      "execution_count": null,
      "metadata": {
        "id": "tQrIEBv__CWO"
      },
      "outputs": [],
      "source": [
        "le = LabelEncoder()\n",
        "labels_test = le.fit_transform(labels_test)\n",
        "labels_test = np_utils.to_categorical(labels_test, 2)\n",
        "\n",
        "f = open('le.pickle', \"wb\")\n",
        "f.write(pickle.dumps(le))\n",
        "f.close()"
      ]
    },
    {
      "cell_type": "code",
      "execution_count": null,
      "metadata": {
        "colab": {
          "base_uri": "https://localhost:8080/"
        },
        "id": "gUwPij4c5N3U",
        "outputId": "68269044-514f-410d-feb3-5dd6d01b1b07"
      },
      "outputs": [
        {
          "output_type": "stream",
          "name": "stdout",
          "text": [
            "[0. 1.]\n",
            "[1. 0.]\n"
          ]
        }
      ],
      "source": [
        "print(labels_test[2])\n",
        "print(labels_test[30000])"
      ]
    },
    {
      "cell_type": "markdown",
      "metadata": {
        "id": "M2FpYmDESY0g"
      },
      "source": [
        "**6) Classification Report**"
      ]
    },
    {
      "cell_type": "code",
      "execution_count": null,
      "metadata": {
        "colab": {
          "base_uri": "https://localhost:8080/"
        },
        "id": "NGOOrD_v-icB",
        "outputId": "c252cc18-c81c-49ea-95de-75b44caaeaf5"
      },
      "outputs": [
        {
          "output_type": "stream",
          "name": "stdout",
          "text": [
            "              precision    recall  f1-score   support\n",
            "\n",
            "        fake    0.99603   0.96494   0.98024     17428\n",
            "        real    0.96297   0.99580   0.97911     15956\n",
            "\n",
            "    accuracy                        0.97969     33384\n",
            "   macro avg    0.97950   0.98037   0.97968     33384\n",
            "weighted avg    0.98023   0.97969   0.97970     33384\n",
            "\n"
          ]
        }
      ],
      "source": [
        "from sklearn.metrics import classification_report\n",
        "\n",
        "test = np.argmin(labels_test, axis=1)\n",
        "pred = np.argmin(preds, axis=1)\n",
        "print(classification_report(test, pred, target_names=le.classes_, digits = 5))"
      ]
    },
    {
      "cell_type": "code",
      "execution_count": null,
      "metadata": {
        "colab": {
          "base_uri": "https://localhost:8080/"
        },
        "id": "YNsriWJmVz1_",
        "outputId": "4ae1bbc3-54af-4be1-d0c6-b4c87813f4d8"
      },
      "outputs": [
        {
          "output_type": "stream",
          "name": "stdout",
          "text": [
            "[0 0 0 ... 1 1 1]\n",
            "[0 0 0 ... 1 1 1]\n"
          ]
        }
      ],
      "source": [
        "print(test)\n",
        "print(pred)"
      ]
    },
    {
      "cell_type": "markdown",
      "metadata": {
        "id": "SHKgYi3rSRX3"
      },
      "source": [
        "**7) Confussion Matrix**"
      ]
    },
    {
      "cell_type": "code",
      "execution_count": null,
      "metadata": {
        "colab": {
          "base_uri": "https://localhost:8080/",
          "height": 346
        },
        "id": "lXRZViJp-vWB",
        "outputId": "fca2cac8-65ef-4190-f8bb-d1e4d4d5c6be"
      },
      "outputs": [
        {
          "output_type": "stream",
          "name": "stdout",
          "text": [
            "[[16817   611]\n",
            " [   67 15889]]\n"
          ]
        },
        {
          "output_type": "display_data",
          "data": {
            "image/png": "[encoded data removed]",
            "text/plain": [
              "<Figure size 432x288 with 2 Axes>"
            ]
          },
          "metadata": {
            "needs_background": "light"
          }
        }
      ],
      "source": [
        "from sklearn.metrics import confusion_matrix\n",
        "cnf_matrix = confusion_matrix(test, pred)\n",
        "print(cnf_matrix)\n",
        "import matplotlib.pyplot as plt\n",
        "import itertools\n",
        "def plot_confusion_matrix(cm, classes,\n",
        "                          normalize=False,\n",
        "                          title='Confusion matrix',\n",
        "                          cmap=plt.cm.Blues):\n",
        "    if normalize:\n",
        "        cm = cm.astype('float') / cm.sum(axis=1, keepdims = True)\n",
        "\n",
        "    plt.imshow(cm, interpolation='nearest', cmap=cmap)\n",
        "    plt.title(title)\n",
        "    plt.colorbar()\n",
        "    tick_marks = np.arange(len(classes))\n",
        "    plt.xticks(tick_marks, classes, rotation=45)\n",
        "    plt.yticks(tick_marks, classes)\n",
        "\n",
        "    fmt = '.5f' if normalize else 'd'\n",
        "    thresh = cm.max() / 2.\n",
        "    for i, j in itertools.product(range(cm.shape[0]), range(cm.shape[1])):\n",
        "        plt.text(j, i, format(cm[i, j], fmt), horizontalalignment=\"center\",\n",
        "                 color=\"white\" if cm[i, j] > thresh else \"black\")\n",
        "    plt.tight_layout()\n",
        "    plt.ylabel('True label')\n",
        "    plt.xlabel('Predicted label')\n",
        "  \n",
        "class_names = ['real', 'fake']\n",
        "plt.figure()\n",
        "plot_confusion_matrix(cnf_matrix, classes=class_names,\n",
        "                      title='Confusion matrix, without normalization')\n",
        "plt.show()"
      ]
    },
    {
      "cell_type": "markdown",
      "metadata": {
        "id": "01hmPSaeTEIH"
      },
      "source": [
        "**8) EER, TPR, FPR**"
      ]
    },
    {
      "cell_type": "code",
      "execution_count": null,
      "metadata": {
        "colab": {
          "base_uri": "https://localhost:8080/"
        },
        "id": "7O-43sSwo2pD",
        "outputId": "1480de7f-392c-487a-cfcf-68769f4897e2"
      },
      "outputs": [
        {
          "output_type": "stream",
          "name": "stdout",
          "text": [
            "tpr =  [0.         0.99580095 1.        ]\n",
            "fpr =  [0.         0.03505853 1.        ]\n",
            "eer =  0.004199047380295862\n"
          ]
        }
      ],
      "source": [
        "from sklearn.metrics import auc, roc_curve\n",
        "fpr, tpr, _ = roc_curve(test, pred, pos_label=1)\n",
        "\n",
        "fnr = 1 - tpr\n",
        "fpr_eer = fpr[np.nanargmin(np.absolute((fnr - fpr)))]\n",
        "fnr_eer = fnr[np.nanargmin(np.absolute((fnr - fpr)))]\n",
        "eer = min(fpr_eer, fnr_eer)\n",
        "print(\"tpr = \", tpr)\n",
        "print(\"fpr = \", fpr)\n",
        "print(\"eer = \", eer)"
      ]
    },
    {
      "cell_type": "markdown",
      "metadata": {
        "id": "AqYfJY9vRe29"
      },
      "source": [
        "**9) Đồ thị ROC, EER, EER_Thresh**"
      ]
    },
    {
      "cell_type": "code",
      "source": [
        "test = np.argmin(labels_test, axis=1)\n",
        "true = preds[:, 0]\n",
        "print(true)"
      ],
      "metadata": {
        "colab": {
          "base_uri": "https://localhost:8080/"
        },
        "id": "-q_yZyYPGOsZ",
        "outputId": "ffecbe09-e5ff-4095-f52c-8e64d67201cf"
      },
      "execution_count": null,
      "outputs": [
        {
          "output_type": "stream",
          "name": "stdout",
          "text": [
            "[4.9109546e-16 7.3836266e-09 2.2624470e-10 ... 1.0000000e+00 1.0000000e+00\n",
            " 1.0000000e+00]\n"
          ]
        }
      ]
    },
    {
      "cell_type": "code",
      "execution_count": null,
      "metadata": {
        "id": "9sn3XdRlw-vw",
        "colab": {
          "base_uri": "https://localhost:8080/",
          "height": 330
        },
        "outputId": "7d9ba422-72da-4631-ee8b-17a3bcc21252"
      },
      "outputs": [
        {
          "output_type": "stream",
          "name": "stdout",
          "text": [
            "threshold at eer =  0.97734284\n",
            "eer =  0.012847831536725973\n"
          ]
        },
        {
          "output_type": "display_data",
          "data": {
            "image/png": "[encoded data removed]",
            "text/plain": [
              "<Figure size 432x288 with 1 Axes>"
            ]
          },
          "metadata": {
            "needs_background": "light"
          }
        }
      ],
      "source": [
        "from sklearn.metrics import auc, roc_curve\n",
        "import matplotlib.pyplot as plt\n",
        "from itertools import cycle\n",
        "\n",
        "fpr, tpr, threshold = roc_curve(test, true, pos_label=1)\n",
        "fnr = 1 - tpr\n",
        "fpr_eer = fpr[np.nanargmin(np.absolute((fnr - fpr)))]\n",
        "fnr_eer = fnr[np.nanargmin(np.absolute((fnr - fpr)))]\n",
        "eer_threshold = threshold[np.nanargmin(np.absolute((fnr - fpr)))]\n",
        "eer = min(fpr_eer, fnr_eer)\n",
        "print(\"threshold at eer = \", eer_threshold)\n",
        "print(\"eer = \", eer)\n",
        "\n",
        "plt.figure()\n",
        "lw = 2\n",
        "plt.plot(fpr, tpr, color='darkorange',\n",
        "         lw=lw, label='ROC curve (area = %0.4f)' % auc(fpr, tpr))\n",
        "plt.plot([0, 1], [0, 1], color='navy', lw=lw, linestyle='--')\n",
        "plt.xlabel('False Positive Rate')\n",
        "plt.ylabel('True Positive Rate')\n",
        "plt.title('ROC')\n",
        "plt.legend(loc=\"lower right\")\n",
        "plt.show()"
      ]
    },
    {
      "cell_type": "markdown",
      "metadata": {
        "id": "5xQGP6F_xELm"
      },
      "source": [
        "**10) Tính TPR 1%, TPR 0.5%, EER, EER_Threshold**"
      ]
    },
    {
      "cell_type": "code",
      "source": [
        "import numpy as np\n",
        "\n",
        "from scipy import interpolate\n",
        "\n",
        "import matplotlib.pyplot as plt\n",
        "\n",
        "from sklearn.metrics import roc_curve\n",
        "from sklearn.metrics import roc_auc_score\n",
        "\n",
        "\n",
        "def cal_metric(groundTruth, predicted):\n",
        "    fpr, tpr, thresholds = roc_curve(groundTruth, predicted)\n",
        "    y = (tpr)\n",
        "    x = (fpr)\n",
        "    z = tpr + fpr\n",
        "    tpr = tpr.reshape((tpr.shape[0], 1))\n",
        "    fpr = fpr.reshape((fpr.shape[0], 1))\n",
        "    xnew = np.arange(0, 1, 0.0000001)\n",
        "    func = interpolate.interp1d(x, y)\n",
        "    # frr = fpr\n",
        "    ynew = func(xnew)\n",
        "\n",
        "    znew = abs(xnew + ynew - 1)\n",
        "\n",
        "    eer = xnew[np.argmin(znew)]\n",
        "    print('EER =', eer)\n",
        "    # interpolate thresholds\n",
        "    func_2 = interpolate.interp1d(x, thresholds)\n",
        "    thresholds_new = func_2(xnew)\n",
        "\n",
        "    print(\"Threshold at eer: {}\".format(thresholds_new[np.argmin(znew)]))\n",
        "\n",
        "    FPR = {\"TPR(1.%)\": 0.01, \"TPR(.5%)\": 0.005}\n",
        "\n",
        "    TPRs = {\"TPR(1.%)\": 0.01, \"TPR(.5%)\": 0.005}\n",
        "\n",
        "    for i, (key, value) in enumerate(FPR.items()):\n",
        "        index = np.argwhere(xnew == value)\n",
        "\n",
        "        score = ynew[index]\n",
        "\n",
        "        TPRs[key] = float(np.squeeze(score))\n",
        "    #\t    print(key, score)\n",
        "\n",
        "    auc = roc_auc_score(groundTruth, predicted)\n",
        "    print('AUC = ', auc)\n",
        "    print ('TPRs = ', TPRs)\n",
        "    if 1:\n",
        "        plt.plot(xnew, ynew)\n",
        "        plt.title(\"ROC curve\")\n",
        "        plt.xlabel(\"FPR\")\n",
        "        plt.ylabel(\"TPR\")\n",
        "        plt.show()\n",
        "\n",
        "    return eer, TPRs, auc, {'x': xnew, 'y': ynew}"
      ],
      "metadata": {
        "id": "-lczGgCuI_C6"
      },
      "execution_count": null,
      "outputs": []
    },
    {
      "cell_type": "code",
      "source": [
        "cal_metric(test, true)"
      ],
      "metadata": {
        "colab": {
          "base_uri": "https://localhost:8080/",
          "height": 486
        },
        "id": "8NsybneCJCjG",
        "outputId": "be1e0b89-098d-4b1a-f101-fd5a37fd3dba"
      },
      "execution_count": null,
      "outputs": [
        {
          "output_type": "stream",
          "name": "stdout",
          "text": [
            "EER = 0.0127726\n",
            "Threshold at eer: 0.9776561970464707\n",
            "AUC =  0.9985205416714876\n",
            "TPRs =  {'TPR(1.%)': 0.9825144146402607, 'TPR(.5%)': 0.9616432689897217}\n"
          ]
        },
        {
          "output_type": "display_data",
          "data": {
            "image/png": "[encoded data removed]",
            "text/plain": [
              "<Figure size 432x288 with 1 Axes>"
            ]
          },
          "metadata": {
            "needs_background": "light"
          }
        },
        {
          "output_type": "execute_result",
          "data": {
            "text/plain": [
              "(0.0127726,\n",
              " {'TPR(.5%)': 0.9616432689897217, 'TPR(1.%)': 0.9825144146402607},\n",
              " 0.9985205416714876,\n",
              " {'x': array([0.000000e+00, 1.000000e-07, 2.000000e-07, ..., 9.999997e-01,\n",
              "         9.999998e-01, 9.999999e-01]),\n",
              "  'y': array([0.00000000e+00, 7.28793277e-05, 1.45758655e-04, ...,\n",
              "         1.00000000e+00, 1.00000000e+00, 1.00000000e+00])})"
            ]
          },
          "metadata": {},
          "execution_count": 32
        }
      ]
    }
  ],
  "metadata": {
    "accelerator": "GPU",
    "colab": {
      "collapsed_sections": [],
      "machine_shape": "hm",
      "name": "train_model_cnn.ipynb",
      "provenance": [],
      "authorship_tag": "ABX9TyMx6I9B+Z59Eiv08TGgxZc2",
      "include_colab_link": true
    },
    "kernelspec": {
      "display_name": "Python 3",
      "name": "python3"
    },
    "language_info": {
      "name": "python"
    }
  },
  "nbformat": 4,
  "nbformat_minor": 0
}